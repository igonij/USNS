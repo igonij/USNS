{
 "cells": [
  {
   "cell_type": "markdown",
   "metadata": {},
   "source": [
    "# Сегментация УЗИ снимков\n",
    "\n",
    "Отладка на слабом железе"
   ]
  },
  {
   "cell_type": "code",
   "execution_count": 1,
   "metadata": {},
   "outputs": [],
   "source": [
    "import os\n",
    "import numpy as np\n",
    "import pandas as pd\n",
    "\n",
    "import torch\n",
    "import torch.nn as nn\n",
    "import torch.nn.functional as F\n",
    "from torch.utils.data import Dataset, DataLoader\n",
    "from torchvision import transforms\n",
    "\n",
    "import cv2\n",
    "\n",
    "from matplotlib import pyplot as plt"
   ]
  },
  {
   "cell_type": "code",
   "execution_count": 2,
   "metadata": {},
   "outputs": [],
   "source": [
    "%matplotlib inline\n",
    "%load_ext autoreload\n",
    "%autoreload 2"
   ]
  },
  {
   "cell_type": "code",
   "execution_count": 3,
   "metadata": {},
   "outputs": [],
   "source": [
    "DATA_PATH = 'data/'\n",
    "MODEL_PATH = 'models/'\n",
    "\n",
    "data_shape = (420, 580)\n",
    "\n",
    "# Mean and Std for image pixels\n",
    "img_mean = (0.38983212684516944,)\n",
    "img_std = (0.21706658034222048,)\n",
    "\n",
    "device = torch.device('cuda' if torch.cuda.is_available() else 'cpu')"
   ]
  },
  {
   "cell_type": "markdown",
   "metadata": {},
   "source": [
    "Helping functions such as run length encoding to genetate submission file"
   ]
  },
  {
   "cell_type": "code",
   "execution_count": 4,
   "metadata": {},
   "outputs": [],
   "source": [
    "def rle_encoding(x):\n",
    "    \"\"\"\n",
    "    x: numpy array of shape (height, width), 1 - mask, 0 - background\n",
    "    Returns run length as list\n",
    "    source: https://www.kaggle.com/rakhlin/fast-run-length-encoding-python\n",
    "    \"\"\"\n",
    "    dots = np.where(x.T.flatten()==1)[0] # .T sets Fortran order down-then-right\n",
    "    run_lengths = []\n",
    "    prev = -2\n",
    "    for b in dots:\n",
    "        if (b>prev+1): run_lengths.extend((b+1, 0))\n",
    "        run_lengths[-1] += 1\n",
    "        prev = b\n",
    "    return run_lengths"
   ]
  },
  {
   "cell_type": "markdown",
   "metadata": {},
   "source": [
    "Dataset class to get images and masks.  \n"
   ]
  },
  {
   "cell_type": "code",
   "execution_count": 5,
   "metadata": {},
   "outputs": [],
   "source": [
    "# data transform\n",
    "transform = transforms.Compose([\n",
    "                transforms.ToTensor(),\n",
    "                transforms.Normalize(img_mean, img_std)\n",
    "            ])\n"
   ]
  },
  {
   "cell_type": "code",
   "execution_count": 6,
   "metadata": {},
   "outputs": [],
   "source": [
    "class USIDataset(Dataset):\n",
    "    \"\"\"\n",
    "    Ultrasaund Nerve Segmentation dataset for PyTorch\n",
    "    \"\"\"\n",
    "    \n",
    "    def __init__(self, data_dir, train=True, transform=None):\n",
    "        \"\"\"\n",
    "        data_dir (string): path to dir with images\n",
    "        train (bool): if True aso returns image and mask image.\n",
    "            If False returns image and mask filename. Should be False for\n",
    "            test dataset\n",
    "        transform (callable): Optional transform to be applied on sample\n",
    "        \"\"\"\n",
    "        self.data_dir = data_dir\n",
    "        self.train = train\n",
    "        self.transform = transform\n",
    "        \n",
    "        self.img_filelist = [ii for ii in os.listdir(data_dir) if 'mask' not in ii]\n",
    "        self.img_filelist.sort(key=lambda fname: (int(fname.split('_')[0]), int(fname.split('_')[1].split('.')[0])))\n",
    "        \n",
    "    def __len__(self):\n",
    "        return len(self.img_filelist)\n",
    "    \n",
    "    def __getitem__(self, idx):\n",
    "        img_fname = self.img_filelist[idx]\n",
    "        mask_fname = img_fname.replace('.tif', '_mask.tif')\n",
    "        \n",
    "        img = cv2.imread(os.path.join(self.data_dir, img_fname), cv2.IMREAD_GRAYSCALE)\n",
    "        img = np.expand_dims(img, axis=2)\n",
    "        \n",
    "        if self.train:\n",
    "            mask = cv2.imread(os.path.join(self.data_dir, mask_fname), cv2.IMREAD_GRAYSCALE)\n",
    "            mask = np.expand_dims(mask, axis=2)\n",
    "        else:\n",
    "            mask = mask_fname\n",
    "        \n",
    "        if self.transform:\n",
    "            img = self.transform(img)\n",
    "            if self.train:\n",
    "                mask = self.transform(mask)\n",
    "            \n",
    "        return (img, mask)"
   ]
  },
  {
   "cell_type": "code",
   "execution_count": 7,
   "metadata": {},
   "outputs": [],
   "source": [
    "class ConvBlock(nn.Module):\n",
    "    \"\"\"\n",
    "    3x3 conv -> ReLu -> 3x3 conv -> ReLu\n",
    "    \"\"\"\n",
    "    def __init__(self, in_channels, out_channels):\n",
    "        super(ConvBlock, self).__init__()\n",
    "        \n",
    "        self.in_channels = in_channels\n",
    "        self.out_channels = out_channels\n",
    "        \n",
    "        self.conv1 = nn.Conv2d(self.in_channels, self.out_channels, kernel_size=3, padding=1)\n",
    "        self.conv2 = nn.Conv2d(self.out_channels, self.out_channels, kernel_size=3, padding=1)\n",
    "        \n",
    "        nn.init.kaiming_normal_(self.conv1.weight)\n",
    "        nn.init.kaiming_normal_(self.conv2.weight)\n",
    "    \n",
    "    def forward(self, x):\n",
    "        x = F.relu(self.conv1(x))\n",
    "        x = F.relu(self.conv2(x))\n",
    "        \n",
    "        return x"
   ]
  },
  {
   "cell_type": "code",
   "execution_count": 8,
   "metadata": {},
   "outputs": [],
   "source": [
    "class UNet3(nn.Module):\n",
    "    def __init__(self, n_filters=64):\n",
    "        super(UNet3, self).__init__()\n",
    "        \n",
    "        self.n_filters = n_filters\n",
    "        \n",
    "        # convolution blocks\n",
    "        self.cb_d1 = ConvBlock(1, self.n_filters)\n",
    "        self.cb_d2 = ConvBlock(self.n_filters, self.n_filters * 2)\n",
    "        self.cb_bottom = ConvBlock(self.n_filters * 2, self.n_filters * 4) # bottom block\n",
    "        self.cb_u1 = ConvBlock(self.n_filters * 4, self.n_filters * 2)\n",
    "        self.cb_u2 = ConvBlock(self.n_filters * 2, self.n_filters)\n",
    "        \n",
    "        # max pool\n",
    "        self.mp1 = nn.MaxPool2d(kernel_size=2, stride=2)\n",
    "        self.mp2 = nn.MaxPool2d(kernel_size=2, stride=2)\n",
    "        \n",
    "        # up conv\n",
    "        self.uc1 = nn.ConvTranspose2d(self.n_filters * 4, self.n_filters * 2, kernel_size=2, stride=2)\n",
    "        self.uc2 = nn.ConvTranspose2d(self.n_filters * 2, self.n_filters, kernel_size=2, stride=2)\n",
    "        \n",
    "        # 1x1 convolution to get 1 channel image\n",
    "        self.conv1x1 = nn.Conv2d(self.n_filters, 1, kernel_size=1)\n",
    "        \n",
    "        nn.init.kaiming_normal_(self.uc1.weight)\n",
    "        nn.init.kaiming_normal_(self.uc1.weight)\n",
    "        nn.init.kaiming_normal_(self.conv1x1.weight)\n",
    "        \n",
    "    def forward(self, x):\n",
    "        # go down\n",
    "        out1 = self.cb_d1(x)\n",
    "        x = self.mp1(out1)\n",
    "        \n",
    "        out2 = self.cb_d2(x)\n",
    "        x = self.mp2(out2)\n",
    "        \n",
    "        # bottom block\n",
    "        x = self.cb_bottom(x)\n",
    "        \n",
    "        # go up\n",
    "        x = self.uc1(x)\n",
    "        x = torch.cat([out2, x], dim=1)\n",
    "        x = self.cb_u1(x)\n",
    "        x = self.uc2(x)\n",
    "        x = torch.cat([out1, x], dim=1)\n",
    "        x = self.cb_u2(x)\n",
    "        \n",
    "        # 1x1 convolution\n",
    "        x = self.conv1x1(x)\n",
    "        \n",
    "        return F.softmax(x)"
   ]
  },
  {
   "cell_type": "code",
   "execution_count": 9,
   "metadata": {},
   "outputs": [],
   "source": [
    "def logdyson_loss(prediction, true):\n",
    "    eps = 1e-10\n",
    "    return torch.mean(\n",
    "        torch.log( 2 - ((prediction * true).mean(dim=[-1, -2]) + eps) / \n",
    "                  ((prediction + true).mean(dim=[-1, -2]) + eps)))"
   ]
  },
  {
   "cell_type": "code",
   "execution_count": 10,
   "metadata": {},
   "outputs": [],
   "source": [
    "def check_accuracy(loader, model):\n",
    "    model.eval()\n",
    "    \n",
    "    with torch.no_grad():\n",
    "        for x, y in loader.values():\n",
    "            x = x.to(device)\n",
    "            y = y.to(device)\n",
    "            \n",
    "            prediction = model(x)"
   ]
  },
  {
   "cell_type": "code",
   "execution_count": 11,
   "metadata": {},
   "outputs": [],
   "source": [
    "def train_unet(model, optimizer, dataloader, epochs=1, print_every=10):\n",
    "    for ee in range(epochs):\n",
    "        for nn, (x, y) in enumerate(dataloader):\n",
    "            model.train()\n",
    "            x = x.to(device=device)\n",
    "            y = y.to(device=device)\n",
    "            \n",
    "            scores = model(x)\n",
    "            prediction = F.softmax(scores)\n",
    "            loss = logdyson_loss(prediction, y)\n",
    "            \n",
    "            optimizer.zero_grad()\n",
    "            \n",
    "            loss.backward()\n",
    "            \n",
    "            optimizer.step()\n",
    "            \n",
    "            #if nn % print_every == 0:\n",
    "            #    print('Iteration %d, loss = %.4f' % (nn, loss.item()))\n",
    "            #    check_accuracy(loader_val, model)\n",
    "            #    print()"
   ]
  },
  {
   "cell_type": "code",
   "execution_count": 12,
   "metadata": {},
   "outputs": [],
   "source": [
    "params = {\n",
    "    'batch_size': 10,\n",
    "    'learning_rate': 1e-2,\n",
    "    'momentum': 0.9,\n",
    "    'n_filters': 32\n",
    "}\n",
    "\n",
    "NUM_TRAIN = 4508 # full dataset has 5635 points\n",
    "#NUM_TRAIN = 101 # for dev purposes\n",
    "\n",
    "model = UNet3(n_filters=params['n_filters']).to(device)\n",
    "\n",
    "optimizer = torch.optim.SGD(model.parameters(), \n",
    "                            lr=params['learning_rate'], \n",
    "                            momentum=params['momentum'], \n",
    "                            nesterov=True)\n",
    "\n",
    "dataset = USIDataset(os.path.join(DATA_PATH, 'train'), train=True, transform=transform)\n",
    "\n",
    "dataloader_full = DataLoader(dataset, batch_size=params['batch_size'], shuffle=True)\n",
    "\n",
    "dataloader_train = DataLoader(dataset, \n",
    "                              batch_size=params['batch_size'], \n",
    "                              sampler=torch.utils.data.sampler.SubsetRandomSampler(range(NUM_TRAIN)))\n",
    "\n",
    "dataloader_val = DataLoader(dataset, \n",
    "                            batch_size=params['batch_size'], \n",
    "                            sampler=torch.utils.data.sampler.SubsetRandomSampler(range(NUM_TRAIN, len(dataset))))"
   ]
  },
  {
   "cell_type": "code",
   "execution_count": null,
   "metadata": {},
   "outputs": [],
   "source": []
  },
  {
   "cell_type": "code",
   "execution_count": 13,
   "metadata": {},
   "outputs": [
    {
     "name": "stderr",
     "output_type": "stream",
     "text": [
      "/usr/lib/python3.7/site-packages/ipykernel_launcher.py:51: UserWarning: Implicit dimension choice for softmax has been deprecated. Change the call to include dim=X as an argument.\n",
      "/usr/lib/python3.7/site-packages/ipykernel_launcher.py:9: UserWarning: Implicit dimension choice for softmax has been deprecated. Change the call to include dim=X as an argument.\n",
      "  if __name__ == '__main__':\n"
     ]
    },
    {
     "name": "stdout",
     "output_type": "stream",
     "text": [
      "CPU times: user 2min 9s, sys: 46.3 s, total: 2min 55s\n",
      "Wall time: 2min 35s\n"
     ]
    }
   ],
   "source": [
    "%%time\n",
    "train_unet(model, optimizer, dataloader_train, epochs=1, print_every=100)"
   ]
  },
  {
   "cell_type": "code",
   "execution_count": 16,
   "metadata": {},
   "outputs": [],
   "source": [
    "#torch.save(model, os.path.join(MODEL_PATH, 'model.pt'))"
   ]
  },
  {
   "cell_type": "code",
   "execution_count": 15,
   "metadata": {},
   "outputs": [
    {
     "name": "stdout",
     "output_type": "stream",
     "text": [
      "UNet3(\n",
      "  (cb_d1): ConvBlock(\n",
      "    (conv1): Conv2d(1, 32, kernel_size=(3, 3), stride=(1, 1), padding=(1, 1))\n",
      "    (conv2): Conv2d(32, 32, kernel_size=(3, 3), stride=(1, 1), padding=(1, 1))\n",
      "  )\n",
      "  (cb_d2): ConvBlock(\n",
      "    (conv1): Conv2d(32, 64, kernel_size=(3, 3), stride=(1, 1), padding=(1, 1))\n",
      "    (conv2): Conv2d(64, 64, kernel_size=(3, 3), stride=(1, 1), padding=(1, 1))\n",
      "  )\n",
      "  (cb_bottom): ConvBlock(\n",
      "    (conv1): Conv2d(64, 128, kernel_size=(3, 3), stride=(1, 1), padding=(1, 1))\n",
      "    (conv2): Conv2d(128, 128, kernel_size=(3, 3), stride=(1, 1), padding=(1, 1))\n",
      "  )\n",
      "  (cb_u1): ConvBlock(\n",
      "    (conv1): Conv2d(128, 64, kernel_size=(3, 3), stride=(1, 1), padding=(1, 1))\n",
      "    (conv2): Conv2d(64, 64, kernel_size=(3, 3), stride=(1, 1), padding=(1, 1))\n",
      "  )\n",
      "  (cb_u2): ConvBlock(\n",
      "    (conv1): Conv2d(64, 32, kernel_size=(3, 3), stride=(1, 1), padding=(1, 1))\n",
      "    (conv2): Conv2d(32, 32, kernel_size=(3, 3), stride=(1, 1), padding=(1, 1))\n",
      "  )\n",
      "  (mp1): MaxPool2d(kernel_size=2, stride=2, padding=0, dilation=1, ceil_mode=False)\n",
      "  (mp2): MaxPool2d(kernel_size=2, stride=2, padding=0, dilation=1, ceil_mode=False)\n",
      "  (uc1): ConvTranspose2d(128, 64, kernel_size=(2, 2), stride=(2, 2))\n",
      "  (uc2): ConvTranspose2d(64, 32, kernel_size=(2, 2), stride=(2, 2))\n",
      "  (conv1x1): Conv2d(32, 1, kernel_size=(1, 1), stride=(1, 1))\n",
      ")\n"
     ]
    }
   ],
   "source": [
    "print(model)"
   ]
  },
  {
   "cell_type": "code",
   "execution_count": null,
   "metadata": {},
   "outputs": [],
   "source": []
  }
 ],
 "metadata": {
  "hide_input": false,
  "kernelspec": {
   "display_name": "Python 3",
   "language": "python",
   "name": "python3"
  },
  "language_info": {
   "codemirror_mode": {
    "name": "ipython",
    "version": 3
   },
   "file_extension": ".py",
   "mimetype": "text/x-python",
   "name": "python",
   "nbconvert_exporter": "python",
   "pygments_lexer": "ipython3",
   "version": "3.7.4"
  },
  "latex_envs": {
   "LaTeX_envs_menu_present": true,
   "autoclose": false,
   "autocomplete": true,
   "bibliofile": "biblio.bib",
   "cite_by": "apalike",
   "current_citInitial": 1,
   "eqLabelWithNumbers": true,
   "eqNumInitial": 1,
   "hotkeys": {
    "equation": "Ctrl-E",
    "itemize": "Ctrl-I"
   },
   "labels_anchors": false,
   "latex_user_defs": false,
   "report_style_numbering": false,
   "user_envs_cfg": false
  },
  "toc": {
   "base_numbering": 1,
   "nav_menu": {},
   "number_sections": true,
   "sideBar": true,
   "skip_h1_title": false,
   "title_cell": "Table of Contents",
   "title_sidebar": "Contents",
   "toc_cell": false,
   "toc_position": {},
   "toc_section_display": true,
   "toc_window_display": false
  },
  "varInspector": {
   "cols": {
    "lenName": 16,
    "lenType": 16,
    "lenVar": 40
   },
   "kernels_config": {
    "python": {
     "delete_cmd_postfix": "",
     "delete_cmd_prefix": "del ",
     "library": "var_list.py",
     "varRefreshCmd": "print(var_dic_list())"
    },
    "r": {
     "delete_cmd_postfix": ") ",
     "delete_cmd_prefix": "rm(",
     "library": "var_list.r",
     "varRefreshCmd": "cat(var_dic_list()) "
    }
   },
   "types_to_exclude": [
    "module",
    "function",
    "builtin_function_or_method",
    "instance",
    "_Feature"
   ],
   "window_display": false
  }
 },
 "nbformat": 4,
 "nbformat_minor": 2
}
